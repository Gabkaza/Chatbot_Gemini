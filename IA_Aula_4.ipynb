{
  "nbformat": 4,
  "nbformat_minor": 0,
  "metadata": {
    "colab": {
      "provenance": [],
      "include_colab_link": true
    },
    "kernelspec": {
      "name": "python3",
      "display_name": "Python 3"
    },
    "language_info": {
      "name": "python"
    }
  },
  "cells": [
    {
      "cell_type": "markdown",
      "metadata": {
        "id": "view-in-github",
        "colab_type": "text"
      },
      "source": [
        "<a href=\"https://colab.research.google.com/github/Gabkaza/Chatbot_Gemini/blob/main/IA_Aula_4.ipynb\" target=\"_parent\"><img src=\"https://colab.research.google.com/assets/colab-badge.svg\" alt=\"Open In Colab\"/></a>"
      ]
    },
    {
      "cell_type": "markdown",
      "source": [
        "Instalando"
      ],
      "metadata": {
        "id": "42us2OEjU-t0"
      }
    },
    {
      "cell_type": "code",
      "execution_count": null,
      "metadata": {
        "id": "oN06TMNYU2oE",
        "colab": {
          "base_uri": "https://localhost:8080/"
        },
        "outputId": "83f963ea-c893-4697-8b39-c7318e8a464b"
      },
      "outputs": [
        {
          "output_type": "stream",
          "name": "stdout",
          "text": [
            "\u001b[2K     \u001b[90m━━━━━━━━━━━━━━━━━━━━━━━━━━━━━━━━━━━━━━━━\u001b[0m \u001b[32m150.7/150.7 kB\u001b[0m \u001b[31m1.1 MB/s\u001b[0m eta \u001b[36m0:00:00\u001b[0m\n",
            "\u001b[2K     \u001b[90m━━━━━━━━━━━━━━━━━━━━━━━━━━━━━━━━━━━━━━━━\u001b[0m \u001b[32m677.8/677.8 kB\u001b[0m \u001b[31m4.5 MB/s\u001b[0m eta \u001b[36m0:00:00\u001b[0m\n",
            "\u001b[?25h"
          ]
        }
      ],
      "source": [
        "!pip install -q -U google-generativeai"
      ]
    },
    {
      "cell_type": "markdown",
      "source": [],
      "metadata": {
        "id": "RgBr0NoMU_Ww"
      }
    },
    {
      "cell_type": "code",
      "source": [
        "# Import the Python SDK\n",
        "import google.generativeai as genai\n",
        "from google.colab import userdata\n",
        "api_key = userdata.get('SECRET_KEY')\n",
        "genai.configure(api_key=api_key)"
      ],
      "metadata": {
        "id": "36JzaBa9VABb"
      },
      "execution_count": null,
      "outputs": []
    },
    {
      "cell_type": "markdown",
      "source": [
        "Listar os modelos disponiveis\n"
      ],
      "metadata": {
        "id": "p0SpfUkbVXxv"
      }
    },
    {
      "cell_type": "code",
      "source": [
        "for m in genai.list_models():\n",
        "  if 'generateContent' in m.supported_generation_methods:\n",
        "    print(m.name)"
      ],
      "metadata": {
        "colab": {
          "base_uri": "https://localhost:8080/",
          "height": 145
        },
        "id": "vrHILX7WVZf7",
        "outputId": "03be49f6-4b42-4110-e729-3d29180bd847"
      },
      "execution_count": null,
      "outputs": [
        {
          "output_type": "stream",
          "name": "stdout",
          "text": [
            "models/gemini-1.0-pro\n",
            "models/gemini-1.0-pro-001\n",
            "models/gemini-1.0-pro-latest\n",
            "models/gemini-1.0-pro-vision-latest\n",
            "models/gemini-1.5-pro-latest\n",
            "models/gemini-pro\n",
            "models/gemini-pro-vision\n"
          ]
        }
      ]
    },
    {
      "cell_type": "markdown",
      "source": [],
      "metadata": {
        "id": "CXX4F8d6XAyD"
      }
    },
    {
      "cell_type": "code",
      "source": [
        "generation_config = {\n",
        "  \"candidate_count\": 1,\n",
        "  \"temperature\": 0.5,\n",
        "}"
      ],
      "metadata": {
        "id": "Si_tk42yXBS7"
      },
      "execution_count": null,
      "outputs": []
    },
    {
      "cell_type": "markdown",
      "source": [
        "configurações de segurança"
      ],
      "metadata": {
        "id": "hq7-ywJmXGn0"
      }
    },
    {
      "cell_type": "code",
      "source": [
        "safety_settings={\n",
        "    'HATE': 'BLOCK_NONE',\n",
        "    'HARASSMENT': 'BLOCK_NONE',\n",
        "    'SEXUAL' : 'BLOCK_NONE',\n",
        "    'DANGEROUS' : 'BLOCK_NONE'\n",
        "    }"
      ],
      "metadata": {
        "id": "r1ceoz17XHUa"
      },
      "execution_count": null,
      "outputs": []
    },
    {
      "cell_type": "markdown",
      "source": [
        "modelo usado para fazer os testes (no caso gemini 1.0 pro)"
      ],
      "metadata": {
        "id": "5ruROywbY3db"
      }
    },
    {
      "cell_type": "code",
      "source": [
        "model = genai.GenerativeModel(model_name='gemini-1.0-pro',\n",
        "                                  generation_config=generation_config,\n",
        "                                  safety_settings=safety_settings,)"
      ],
      "metadata": {
        "id": "GTITApKBY396"
      },
      "execution_count": null,
      "outputs": []
    },
    {
      "cell_type": "markdown",
      "source": [
        "testando se o gemini está incluso no colab\n"
      ],
      "metadata": {
        "id": "sd1qlP0OZWeH"
      }
    },
    {
      "cell_type": "code",
      "source": [
        "response = model.generate_content(\"Quem é o dono do google]?\")\n",
        "response.text"
      ],
      "metadata": {
        "colab": {
          "base_uri": "https://localhost:8080/",
          "height": 36
        },
        "id": "WmDiMUscZX93",
        "outputId": "6f114520-ba14-4b8d-c607-73a158004221"
      },
      "execution_count": null,
      "outputs": [
        {
          "output_type": "execute_result",
          "data": {
            "text/plain": [
              "'Sundar Pichai'"
            ],
            "application/vnd.google.colaboratory.intrinsic+json": {
              "type": "string"
            }
          },
          "metadata": {},
          "execution_count": 14
        }
      ]
    },
    {
      "cell_type": "markdown",
      "source": [
        "primeiro chatbot funcional (para parar de executar é necessário escrever fim no prompt)"
      ],
      "metadata": {
        "id": "Xu-rneT_ZWbB"
      }
    },
    {
      "cell_type": "code",
      "source": [
        "chat = model.start_chat(history=[])\n",
        "\n",
        "prompt = input('Esperando prompt: ')\n",
        "\n",
        "while prompt != \"fim\":\n",
        "  response = chat.send_message(prompt)\n",
        "  print(\"Resposta:\", response.text, '\\n\\n')\n",
        "  prompt = input('Esperando prompt: ')"
      ],
      "metadata": {
        "colab": {
          "base_uri": "https://localhost:8080/",
          "height": 347
        },
        "id": "tnri2PefbKkt",
        "outputId": "54e1a40a-4e01-4d48-e250-4c1a1b270143"
      },
      "execution_count": null,
      "outputs": [
        {
          "name": "stdout",
          "output_type": "stream",
          "text": [
            "Esperando prompt: Sou do interior de são Paulo e quero comprar uma moto para o dia a dia para trabalhar. irei andar todo dia 50 km de ida e 50km de volta. Faça uma tabela de 3 colunas. Sendo a primeira coluna as melhores motos para o meu caso, segunda os preços das motos, terceiro e o quianto vou gastar de gasolina todo mês\n",
            "Resposta: | **Motocicleta** | **Preço** | **Gasto Mensal de Gasolina** |\n",
            "|---|---|---|\n",
            "| Honda CG 160 Start | R$ 12.000 | R$ 250 |\n",
            "| Yamaha Fazer 150 | R$ 13.500 | R$ 270 |\n",
            "| Suzuki Yes 125 | R$ 10.500 | R$ 220 |\n",
            "| Haojue DK 150 | R$ 11.000 | R$ 230 |\n",
            "| Shineray XY150-5 | R$ 9.500 | R$ 200 |\n",
            "\n",
            "**Observações:**\n",
            "\n",
            "* Os preços são aproximados e podem variar de acordo com a região e o modelo específico.\n",
            "* O gasto mensal de gasolina é estimado com base em um consumo médio de 30 km/l e um preço médio da gasolina de R$ 5,00/litro.\n",
            "* O valor do gasto mensal de gasolina pode variar de acordo com o estilo de pilotagem, condições de trânsito e preço da gasolina. \n",
            "\n",
            "\n",
            "Esperando prompt: fim\n"
          ]
        }
      ]
    },
    {
      "cell_type": "markdown",
      "source": [],
      "metadata": {
        "id": "wj9PXx8TbLJV"
      }
    },
    {
      "cell_type": "code",
      "source": [
        "chat"
      ],
      "metadata": {
        "colab": {
          "base_uri": "https://localhost:8080/"
        },
        "id": "iqcU1qnrbMfD",
        "outputId": "b43db4e0-b70c-41b4-d38c-b884ae9a37df"
      },
      "execution_count": null,
      "outputs": [
        {
          "output_type": "execute_result",
          "data": {
            "text/plain": [
              "ChatSession(\n",
              "    model=genai.GenerativeModel(\n",
              "        model_name='models/gemini-1.0-pro',\n",
              "        generation_config={'candidate_count': 1, 'temperature': 0.5},\n",
              "        safety_settings={<HarmCategory.HARM_CATEGORY_HATE_SPEECH: 8>: <HarmBlockThreshold.BLOCK_NONE: 4>, <HarmCategory.HARM_CATEGORY_HARASSMENT: 7>: <HarmBlockThreshold.BLOCK_NONE: 4>, <HarmCategory.HARM_CATEGORY_SEXUALLY_EXPLICIT: 9>: <HarmBlockThreshold.BLOCK_NONE: 4>, <HarmCategory.HARM_CATEGORY_DANGEROUS_CONTENT: 10>: <HarmBlockThreshold.BLOCK_NONE: 4>},\n",
              "        tools=None,\n",
              "        system_instruction=None,\n",
              "    ),\n",
              "    history=[glm.Content({'parts': [{'text': 'Sou do inter...lina todo mês'}], 'role': 'user'}), glm.Content({'parts': [{'text': '| **Motocicl... da gasolina.'}], 'role': 'model'})]\n",
              ")"
            ]
          },
          "metadata": {},
          "execution_count": 10
        }
      ]
    },
    {
      "cell_type": "markdown",
      "source": [],
      "metadata": {
        "id": "GQJ4LgEAbLGl"
      }
    },
    {
      "cell_type": "code",
      "source": [
        "chat.history"
      ],
      "metadata": {
        "colab": {
          "base_uri": "https://localhost:8080/"
        },
        "id": "hG_V1Cw5dYSf",
        "outputId": "39b35a09-1b45-4ab0-b428-aa3507eaf412"
      },
      "execution_count": null,
      "outputs": [
        {
          "output_type": "execute_result",
          "data": {
            "text/plain": [
              "[parts {\n",
              "   text: \"Sou do interior de s\\303\\243o Paulo e quero comprar uma moto para o dia a dia para trabalhar. irei andar todo dia 50 km de ida e 50km de volta. Fa\\303\\247a uma tabela de 3 colunas. Sendo a primeira coluna as melhores motos para o meu caso, segunda os pre\\303\\247os das motos, terceiro e o quianto vou gastar de gasolina todo m\\303\\252s\"\n",
              " }\n",
              " role: \"user\",\n",
              " parts {\n",
              "   text: \"| **Motocicleta** | **Pre\\303\\247o** | **Gasto Mensal de Gasolina** |\\n|---|---|---|\\n| Honda CG 160 Start | R$ 12.000 | R$ 250 |\\n| Yamaha Fazer 150 | R$ 13.500 | R$ 270 |\\n| Suzuki Yes 125 | R$ 10.500 | R$ 220 |\\n| Haojue DK 150 | R$ 11.000 | R$ 230 |\\n| Shineray XY150-5 | R$ 9.500 | R$ 200 |\\n\\n**Observa\\303\\247\\303\\265es:**\\n\\n* Os pre\\303\\247os s\\303\\243o aproximados e podem variar de acordo com a regi\\303\\243o e o modelo espec\\303\\255fico.\\n* O gasto mensal de gasolina \\303\\251 estimado com base em um consumo m\\303\\251dio de 30 km/l e um pre\\303\\247o m\\303\\251dio da gasolina de R$ 5,00/litro.\\n* O valor do gasto mensal de gasolina pode variar de acordo com o estilo de pilotagem, condi\\303\\247\\303\\265es de tr\\303\\242nsito e pre\\303\\247o da gasolina.\"\n",
              " }\n",
              " role: \"model\"]"
            ]
          },
          "metadata": {},
          "execution_count": 11
        }
      ]
    },
    {
      "cell_type": "markdown",
      "source": [
        "para deixar a interface mais bonita"
      ],
      "metadata": {
        "id": "h03bUbXqdY2z"
      }
    },
    {
      "cell_type": "code",
      "source": [
        "#Melhorando a visualização\n",
        "#Código disponível em https://ai.google.dev/tutorials/python_quickstart#import_packages\n",
        "import textwrap\n",
        "from IPython.display import display\n",
        "from IPython.display import Markdown\n",
        "\n",
        "def to_markdown(text):\n",
        "  text = text.replace('•', '  *')\n",
        "  return Markdown(textwrap.indent(text, '> ', predicate=lambda _: True))\n",
        "\n",
        "#Imprimindo o histórico\n",
        "for message in chat.history:\n",
        "  display(to_markdown(f'**{message.role}**: {message.parts[0].text}'))\n",
        "  print('-------------------------------------------')"
      ],
      "metadata": {
        "colab": {
          "base_uri": "https://localhost:8080/",
          "height": 285
        },
        "id": "hk3u8mdpdZm9",
        "outputId": "96198b56-0149-4bb7-d387-9c7a0f1c597c"
      },
      "execution_count": null,
      "outputs": [
        {
          "output_type": "display_data",
          "data": {
            "text/plain": [
              "<IPython.core.display.Markdown object>"
            ],
            "text/markdown": "> **user**: Sou do interior de são Paulo e quero comprar uma moto para o dia a dia para trabalhar. irei andar todo dia 50 km de ida e 50km de volta. Faça uma tabela de 3 colunas. Sendo a primeira coluna as melhores motos para o meu caso, segunda os preços das motos, terceiro e o quianto vou gastar de gasolina todo mês"
          },
          "metadata": {}
        },
        {
          "output_type": "stream",
          "name": "stdout",
          "text": [
            "-------------------------------------------\n"
          ]
        },
        {
          "output_type": "display_data",
          "data": {
            "text/plain": [
              "<IPython.core.display.Markdown object>"
            ],
            "text/markdown": "> **model**: | **Motocicleta** | **Preço** | **Gasto Mensal de Gasolina** |\n> |---|---|---|\n> | Honda CG 160 Start | R$ 12.000 | R$ 250 |\n> | Yamaha Fazer 150 | R$ 13.500 | R$ 270 |\n> | Suzuki Yes 125 | R$ 10.500 | R$ 220 |\n> | Haojue DK 150 | R$ 11.000 | R$ 230 |\n> | Shineray XY150-5 | R$ 9.500 | R$ 200 |\n> \n> **Observações:**\n> \n> * Os preços são aproximados e podem variar de acordo com a região e o modelo específico.\n> * O gasto mensal de gasolina é estimado com base em um consumo médio de 30 km/l e um preço médio da gasolina de R$ 5,00/litro.\n> * O valor do gasto mensal de gasolina pode variar de acordo com o estilo de pilotagem, condições de trânsito e preço da gasolina."
          },
          "metadata": {}
        },
        {
          "output_type": "stream",
          "name": "stdout",
          "text": [
            "-------------------------------------------\n"
          ]
        }
      ]
    },
    {
      "cell_type": "markdown",
      "source": [
        "ChatBot final!"
      ],
      "metadata": {
        "id": "hVbHzqQDdaLO"
      }
    },
    {
      "cell_type": "code",
      "source": [
        "# prompt: informações sobre concurso publico dos correios\n",
        "\n",
        "prompt = 'O que eu preciso estudar para ter um bom desempenho no concurso dos correios 2024'\n",
        "response = chat.send_message(prompt)\n",
        "print(\"Resposta:\", response.text, '\\n\\n')"
      ],
      "metadata": {
        "id": "ZylYgR1adbXL",
        "colab": {
          "base_uri": "https://localhost:8080/",
          "height": 874
        },
        "outputId": "091c464e-7303-4dfd-87b0-3cc6b70944db"
      },
      "execution_count": null,
      "outputs": [
        {
          "output_type": "stream",
          "name": "stdout",
          "text": [
            "Resposta: **Conhecimentos Básicos**\n",
            "\n",
            "* Língua Portuguesa\n",
            "* Matemática\n",
            "* Raciocínio Lógico\n",
            "* Conhecimentos Gerais\n",
            "\n",
            "**Conhecimentos Específicos**\n",
            "\n",
            "* Noções de Administração Postal\n",
            "* Logística e Transporte\n",
            "* Atendimento ao Cliente\n",
            "* Ética e Legislação Postal\n",
            "* Segurança Postal\n",
            "\n",
            "**Matérias Específicas (de acordo com o cargo pretendido)**\n",
            "\n",
            "* **Agente de Correios:**\n",
            "    * Operações Postais\n",
            "    * Atendimento Operacional\n",
            "* **Carteiro:**\n",
            "    * Distribuição e Coleta de Correspondências\n",
            "    * Atendimento ao Cliente\n",
            "* **Operador de Triagem e Transbordo:**\n",
            "    * Processos de Triagem e Transbordo\n",
            "    * Segurança Postal\n",
            "\n",
            "**Dicas de Estudo**\n",
            "\n",
            "* Elabore um cronograma de estudos e cumpra-o rigorosamente.\n",
            "* Divida o conteúdo em pequenas partes e estude gradualmente.\n",
            "* Faça resumos e mapas mentais para facilitar a memorização.\n",
            "* Resolva exercícios e simulados para testar seus conhecimentos.\n",
            "* Busque materiais de estudo atualizados e de qualidade.\n",
            "* Participe de grupos de estudos ou fóruns online para trocar informações e tirar dúvidas.\n",
            "* Mantenha-se informado sobre as últimas notícias e atualizações do concurso.\n",
            "\n",
            "**Materiais de Estudo Recomendados**\n",
            "\n",
            "* Editais e provas anteriores do concurso dos Correios\n",
            "* Apostilas e livros específicos para o concurso\n",
            "* Cursos preparatórios online ou presenciais\n",
            "* Sites e canais especializados em concursos públicos\n",
            "\n",
            "Lembre-se de que a dedicação e a persistência são fundamentais para um bom desempenho no concurso. Estude com afinco, mantenha-se motivado e acredite em seu potencial. \n",
            "\n",
            "\n"
          ]
        }
      ]
    }
  ]
}